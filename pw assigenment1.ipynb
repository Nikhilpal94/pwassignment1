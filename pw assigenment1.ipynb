{
 "cells": [
  {
   "cell_type": "markdown",
   "id": "04ecd7d8",
   "metadata": {},
   "source": [
    "# Q1. Explain with an example each when to use a for loop and a while loop?\n",
    "##Ans-he syntax of the for loop in Python is quite different from the rest of the programming language. The for loop is used to iterate a sequence (such as list, tuples, dictionary and set etc''')\n",
    "\n",
    "    \n",
    " while loop-While Loop simply executes statements repeatedly, until the given condition is False. Loop will execute as long as the condition is true.\n",
    "\n",
    "\n",
    "\n"
   ]
  },
  {
   "cell_type": "code",
   "execution_count": null,
   "id": "d76a6bd6",
   "metadata": {},
   "outputs": [],
   "source": [
    "#example of for loop\n",
    "s=[1,2,3,4,5,6] \n",
    "for y in s:\n",
    "    print(y)"
   ]
  },
  {
   "cell_type": "code",
   "execution_count": null,
   "id": "add6e376",
   "metadata": {},
   "outputs": [],
   "source": [
    "#example of while loop-\n",
    "l=1 \n",
    "while(l<=5):\n",
    "    print(l) \n",
    "    l+=1"
   ]
  },
  {
   "cell_type": "markdown",
   "id": "013c400c",
   "metadata": {},
   "source": [
    "# Q2-Write a python program to print the sum and product of the first 10 natural numbers using for and while loop#"
   ]
  },
  {
   "cell_type": "code",
   "execution_count": 13,
   "id": "fc8e0a85",
   "metadata": {},
   "outputs": [
    {
     "name": "stdout",
     "output_type": "stream",
     "text": [
      "1\n",
      "3\n",
      "6\n",
      "10\n",
      "15\n",
      "21\n",
      "28\n",
      "36\n",
      "45\n",
      "55\n"
     ]
    }
   ],
   "source": [
    "#while loop program to print first 10 natural number sum and product-#\n",
    "x=1\n",
    "sum=0\n",
    "while(x<=10):\n",
    "    \n",
    "    sum=sum+x\n",
    "    x+=1\n",
    "    print(sum)\n"
   ]
  },
  {
   "cell_type": "code",
   "execution_count": 11,
   "id": "8bbd108d",
   "metadata": {},
   "outputs": [
    {
     "name": "stdout",
     "output_type": "stream",
     "text": [
      "1\n",
      "3\n",
      "6\n",
      "10\n",
      "15\n",
      "21\n",
      "28\n",
      "36\n",
      "45\n",
      "55\n"
     ]
    }
   ],
   "source": [
    "#for loop programe to print first 10 natural number sum and product-\n",
    "i=1\n",
    "sum=0\n",
    "for i in range(1,11):\n",
    "    sum=sum+i\n",
    "    i+=1\n",
    "    print(sum)"
   ]
  },
  {
   "cell_type": "code",
   "execution_count": null,
   "id": "dcfc560c",
   "metadata": {},
   "outputs": [],
   "source": [
    "#Q3-Create a python program to compute the electricity bill for a household.\n",
    "#The per-unit charges in rupees are as follows: For the first 100 units, the user will be charged Rs. 4.5 per \n",
    "#unit, for the next 100 units, the user will be charged Rs. 6 per unit, and for the next 100 units, the user will \n",
    "#be charged Rs. 10 per unit, After 300 units and above the user will be charged Rs. 20 per unit.#\n",
    "#Your program must pass this test case: when the unit of electricity consumed by the user in a month is \n",
    "#310, the total electricity bill should be 2250."
   ]
  },
  {
   "cell_type": "code",
   "execution_count": 5,
   "id": "0c74a14a",
   "metadata": {},
   "outputs": [
    {
     "name": "stdout",
     "output_type": "stream",
     "text": [
      "Entre the total unit of electicity:310\n",
      "Total bill of electicity= 2250.0\n"
     ]
    }
   ],
   "source": [
    "unit=int(input(\"Entre the total unit of electicity:\"))\n",
    "bill=0\n",
    "if(unit<=100):\n",
    "    bill=100*4.5\n",
    "elif(unit>100 and unit<=200):\n",
    "    bill=100*4.5+(unit-100)*6\n",
    "elif(unit>200 and unit<=300):\n",
    "    bill=100*4.5+100*6+(unit-200)*10\n",
    "else:\n",
    "    bill=100*4.5+100*6+100*10+(unit-300)*20\n",
    "print(\"Total bill of electicity=\",bill)\n",
    "\n",
    "\n"
   ]
  },
  {
   "cell_type": "markdown",
   "id": "20adad55",
   "metadata": {},
   "source": [
    "# Q4-Create a list of numbers from 1 to 100. Use for loop and while loop to calculate the cube of each number and if the cube of that number is divisible by 4 or 5 then append that number in a list and print that list."
   ]
  },
  {
   "cell_type": "code",
   "execution_count": 16,
   "id": "6dc9c5c9",
   "metadata": {},
   "outputs": [
    {
     "name": "stdout",
     "output_type": "stream",
     "text": [
      "[2, 4, 5, 6, 8, 10, 12, 14, 15, 16, 18, 20, 22, 24, 25, 26, 28, 30, 32, 34, 35, 36, 38, 40, 42, 44, 45, 46, 48, 50, 52, 54, 55, 56, 58, 60, 62, 64, 65, 66, 68, 70, 72, 74, 75, 76, 78, 80, 82, 84, 85, 86, 88, 90, 92, 94, 95, 96, 98, 100]\n"
     ]
    }
   ],
   "source": [
    "#using in for loop\n",
    "result=[]\n",
    "for i in range(1,101):\n",
    "    a=i*i*i\n",
    "    if(a%4==0 or a%5==0):\n",
    "        result.append(i)\n",
    "print(result)\n",
    "    "
   ]
  },
  {
   "cell_type": "code",
   "execution_count": null,
   "id": "6e37584b",
   "metadata": {},
   "outputs": [],
   "source": [
    "#using in while loop\n",
    "result=[]\n",
    "while (i<=100):\n",
    "    a=i*i*i\n",
    "    i+=1\n",
    "    if(a%4==0 or a%5==0):\n",
    "        result.append(i)\n",
    "print(result)\n"
   ]
  },
  {
   "cell_type": "markdown",
   "id": "73bac8e6",
   "metadata": {},
   "source": [
    "# Q5.  Write a program to filter count vowels in the below-given string.\n",
    "\n",
    "string = \"I want to become a data scientist\""
   ]
  },
  {
   "cell_type": "code",
   "execution_count": 41,
   "id": "10e5f347",
   "metadata": {},
   "outputs": [
    {
     "name": "stdout",
     "output_type": "stream",
     "text": [
      "Number of vowel the given string= 12\n"
     ]
    }
   ],
   "source": [
    "string = \"I want to become a data scientist\"\n",
    "string1=string.lower()\n",
    "count=0\n",
    "for i in string1:\n",
    "    if(i==\"i\"or i==\"a\"or i==\"e\"or i==\"o\"or i==\"u\"):\n",
    "        count+=1\n",
    "print(\"Number of vowel the given string=\",count)\n",
    "   "
   ]
  },
  {
   "cell_type": "code",
   "execution_count": null,
   "id": "ca830ad9",
   "metadata": {},
   "outputs": [],
   "source": []
  }
 ],
 "metadata": {
  "kernelspec": {
   "display_name": "Python 3 (ipykernel)",
   "language": "python",
   "name": "python3"
  },
  "language_info": {
   "codemirror_mode": {
    "name": "ipython",
    "version": 3
   },
   "file_extension": ".py",
   "mimetype": "text/x-python",
   "name": "python",
   "nbconvert_exporter": "python",
   "pygments_lexer": "ipython3",
   "version": "3.9.12"
  }
 },
 "nbformat": 4,
 "nbformat_minor": 5
}
